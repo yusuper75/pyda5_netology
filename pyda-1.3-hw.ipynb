{
 "cells": [
  {
   "cell_type": "markdown",
   "metadata": {},
   "source": [
    "Задание 1 Дан список вида: data = [ [13, 25, 23, 34], [45, 32, 44, 47], [12, 33, 23, 95], [13, 53, 34, 35], ]\n",
    "\n",
    "Напишите функцию, которая возвращает сумму элементов на диагонали. Т. е. 13+32+23+35."
   ]
  },
  {
   "cell_type": "code",
   "execution_count": null,
   "metadata": {},
   "outputs": [],
   "source": [
    "den = [\n",
    "[13, 25, 23, 34],\n",
    "[45, 32, 44, 47],\n",
    "[12, 33, 23, 95],\n",
    "[13, 53, 34, 35],\n",
    "]"
   ]
  },
  {
   "cell_type": "code",
   "execution_count": null,
   "metadata": {},
   "outputs": [],
   "source": [
    "def diag_summa (data):\n",
    "    a = 0 # сумма элементов по диагонали\n",
    "    for diag_number in range (len(data)):    # переменая позиции по диагонали\n",
    "        a += data[diag_number][diag_number]\n",
    "    return a\n",
    "\n",
    "diag_summa (den)"
   ]
  },
  {
   "cell_type": "markdown",
   "metadata": {},
   "source": [
    "Задание 2 Дан список чисел, часть из которых имеют строковый тип или содержат буквы. Напишите функцию, которая возвращает сумму квадратов элементов, которые могут быть числами. data = [1, ‘5’, ‘abc’, 20, ‘2’]"
   ]
  },
  {
   "cell_type": "code",
   "execution_count": null,
   "metadata": {},
   "outputs": [],
   "source": [
    "data = [1, '5', 'abc', 20, '2']"
   ]
  },
  {
   "cell_type": "code",
   "execution_count": null,
   "metadata": {},
   "outputs": [],
   "source": [
    "def chislo (data):\n",
    "    summa_kvadratov = 0\n",
    "    for elem in data:\n",
    "        if type(elem) == type(6):\n",
    "            summa_kvadratov += elem**2\n",
    "    return summa_kvadratov\n",
    "\n",
    "chislo(data)"
   ]
  },
  {
   "cell_type": "markdown",
   "metadata": {},
   "source": [
    "Задание 3. Напишите функцию, возвращающую сумму первых n чисел Фибоначчи (в которой первые два числа равны либо 1 и 1, а каждое последующее число равно сумме двух предыдущих чисел)"
   ]
  },
  {
   "cell_type": "code",
   "execution_count": null,
   "metadata": {},
   "outputs": [],
   "source": [
    "def fib(n):  # определяю функцию 1, 1, 2, 3, 5, 8\n",
    "    a1 = 1 # первая переменая\n",
    "    a2 = 1 \n",
    "    summa_fib = a1 + a2\n",
    "    for a in range(n-2):\n",
    "        a3 = a1 + a2 \n",
    "        a1 = a2\n",
    "        a2 = a3\n",
    "        summa_fib += a3\n",
    "    return(summa_fib)\n",
    "n = int(input('Введите n '))\n",
    "print('Cуммы первых n чисел Фибоначчи равна = ', fib(n))"
   ]
  },
  {
   "cell_type": "markdown",
   "metadata": {},
   "source": [
    "Задание 4 Дан набор данных об обучении студентов на курсе программирования, который содержит: 1) имя 2) фамилию 3) пол 4) наличие у студента опыта в программировании 5) набор оценок за домашние работы 6) оценку за итоговую работу. Напишите программу, которая будет принимать команду от пользователя и возвращать соотвествующий результат. Список команд: 1 - вывести на экран среднюю оценку за все ДЗ по группе и вывести на экран среднюю оценку за экзамен по группе; 2 - вывести среднюю оценку за ДЗ и за экзамен по группе в разрезе пола студентов 3 - вывести среднюю оценку за ДЗ и за экзамен в разрезе наличия опыта в программировании у студентов. Прогрмма должна быть полностью декомпозирована на функции (кроме объявления функций и вызова итоговой функции в реализации ничего быть не должно)."
   ]
  },
  {
   "cell_type": "code",
   "execution_count": null,
   "metadata": {},
   "outputs": [],
   "source": [
    "students_list = [\n",
    "{'name': 'Василий', 'surname': 'Теркин', 'sex': 'м', 'program_exp': True, 'grade': [8, 8, 9, 10, 9], 'exam': '9'},\n",
    "{'name': 'Мария', 'surname': 'Павлова', 'sex': 'ж', 'program_exp': True, 'grade': [7, 8, 9, 7, 9], 'exam': 8},\n",
    "{'name': 'Ирина', 'surname': 'Андреева', 'sex': 'ж', 'program_exp': True, 'grade': [10, 9, 8, 10, 10], 'exam': 10},\n",
    "{'name': 'Татьяна', 'surname': 'Сидорова', 'sex': 'ж', 'program_exp': True, 'grade': [7, 8, 8, 9, 8], 'exam': 8},\n",
    "{'name': 'Иван', 'surname': 'Васильев', 'sex': 'ж', 'program_exp': True, 'grade': [9, 8, 9, 6, 9], 'exam': 10},\n",
    "{'name': 'Роман', 'surname': 'Золотарев', 'sex': 'ж', 'program_exp': False, 'grade': [8, 9, 9, 6, 9], 'exam': 10}\n",
    "]"
   ]
  },
  {
   "cell_type": "code",
   "execution_count": null,
   "metadata": {},
   "outputs": [],
   "source": [
    "def func1(students_list): # средние оценки за задания по группе\n",
    "    a = 0\n",
    "    for dicts in students_list:\n",
    "        a += sum(dicts['grade'])/len(dicts['grade'])\n",
    "    return(round(a/len(students_list),2))\n",
    "\n",
    "def func2(students_list): # средние оценки за экзамен по группе\n",
    "    b = 0\n",
    "    for dicts in students_list:\n",
    "        b += int(dicts['exam'])\n",
    "    return(round(b/len(students_list),2))\n",
    "\n",
    "def func3(students_list): # считаем средние оценки по полу\n",
    "    c = 0\n",
    "    men = 0\n",
    "    d = 0\n",
    "    fem = 0\n",
    "    for dicts in students_list:\n",
    "        if  dicts['sex'] == 'м':                \n",
    "            c += sum(dicts['grade'])/len(dicts['grade'])\n",
    "            men += 1\n",
    "        elif dicts['sex'] == 'ж':\n",
    "            d += sum(dicts['grade'])/len(dicts['grade'])\n",
    "            fem +=1\n",
    "            \n",
    "            #print (c)\n",
    "            #print (d)\n",
    "    print('Средняя оценка за ДЗ у мужчин', round(c/men,2))\n",
    "    print('Средняя оценка за ДЗ у женщин', round(d/fem,2))\n",
    "    \n",
    "def func4(students_list): # считаем средние экзамен по полу\n",
    "    c = 0\n",
    "    men = 0\n",
    "    d = 0\n",
    "    fem = 0\n",
    "    for dicts in students_list:\n",
    "        if  dicts['sex'] == 'м':\n",
    "                \n",
    "            c += int(dicts['exam'])\n",
    "            men += 1\n",
    "        elif dicts['sex'] == 'ж':\n",
    "            d += int(dicts['exam'])\n",
    "            fem +=1\n",
    "            \n",
    "            #print (c)\n",
    "            #print (d)\n",
    "    print('Средняя оценка за экзамен у мужчин',round(c/men,2))\n",
    "    print('Средняя оценка за экзамен у женщин',round(d/fem,2))\n",
    "\n",
    "def func5(students_list):# считаем средние оценки по опыту\n",
    "    e = 0\n",
    "    tr = 0\n",
    "    f = 0\n",
    "    fl = 0\n",
    "    for dicts in students_list:\n",
    "        if  dicts['program_exp'] == True:                \n",
    "            e += sum(dicts['grade'])/len(dicts['grade'])\n",
    "            tr += 1\n",
    "        elif dicts['program_exp'] == False:\n",
    "            f += sum(dicts['grade'])/len(dicts['grade'])\n",
    "            fl +=1\n",
    "            \n",
    "            #print (c)\n",
    "            #print (d)\n",
    "    print('Средняя оценка за ДЗ у опытного студента', round(e/tr,2))\n",
    "    print('Средняя оценка за ДЗ у неопытного студента',round(f/fl,2))\n",
    "    \n",
    "def func6(students_list):# считаем средние экзамен по опыту\n",
    "    e = 0\n",
    "    tr = 0\n",
    "    f = 0\n",
    "    fl = 0\n",
    "    for dicts in students_list:\n",
    "        if  dicts['program_exp'] == True:                \n",
    "            e += int(dicts['exam'])\n",
    "            tr += 1\n",
    "        elif dicts['program_exp'] == False:\n",
    "            f += int(dicts['exam'])\n",
    "            fl +=1\n",
    "            \n",
    "            #print (c)\n",
    "            #print (d)\n",
    "    print('Средняя оценка за экзамен у опытного студента', round(e/tr,2))\n",
    "    print('Средняя оценка за экзамен у неопытного студента', round(f/fl,2))\n",
    "\n",
    "def main_func():\n",
    "    n = int(input('Введите команду от 1 до 3 '))\n",
    "    if n == 1:\n",
    "        print('Cредняя оценка за все ДЗ по группе - ', \n",
    "              func1(students_list),'Средняя оценку за экзамен по группе - ', func2(students_list))\n",
    "    elif n == 2:\n",
    "        func3(students_list)\n",
    "        func4(students_list)\n",
    "    elif n == 3:\n",
    "        func5(students_list)\n",
    "        func6(students_list)\n",
    "main_func()"
   ]
  }
 ],
 "metadata": {
  "kernelspec": {
   "display_name": "Python 3",
   "language": "python",
   "name": "python3"
  },
  "language_info": {
   "codemirror_mode": {
    "name": "ipython",
    "version": 3
   },
   "file_extension": ".py",
   "mimetype": "text/x-python",
   "name": "python",
   "nbconvert_exporter": "python",
   "pygments_lexer": "ipython3",
   "version": "3.7.3"
  }
 },
 "nbformat": 4,
 "nbformat_minor": 2
}
