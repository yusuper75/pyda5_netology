{
 "cells": [
  {
   "cell_type": "markdown",
   "metadata": {},
   "source": [
    "Задание 1 Напишите функцию, которая возвращает название валюты (поле 'Name') с максимальным значением курса с помощью сервиса https://www.cbr-xml-daily.ru/daily_json.js"
   ]
  },
  {
   "cell_type": "code",
   "execution_count": 1,
   "metadata": {},
   "outputs": [],
   "source": [
    "import requests"
   ]
  },
  {
   "cell_type": "code",
   "execution_count": 2,
   "metadata": {},
   "outputs": [
    {
     "name": "stdout",
     "output_type": "stream",
     "text": [
      "10 Датских крон\n"
     ]
    }
   ],
   "source": [
    "def find_max_money ():\n",
    "    r = requests.get('https://www.cbr-xml-daily.ru/daily_json.js')\n",
    "    valute_dict = r.json()['Valute'] # словарь валют\n",
    "    value_nominal = 0 # - переменная номинала валют, задание начального значения\n",
    "    max_valute_name = '' # строковая переманая куда попадет имя валют с макс значением\n",
    "    qty_of_coins = '' # количество единиц\n",
    "    for valute_name in valute_dict.values(): # valute_name - словарь из словарей\n",
    "        #print(valute_name['Name'])\n",
    "        if float(value_nominal) < float(valute_name['Value']):\n",
    "            value_nominal = float(valute_name['Value'])\n",
    "            max_valute_name = valute_name['Name']\n",
    "            qty_of_coins = valute_name['Nominal']\n",
    "            #print(value_nominal)\n",
    "    return (qty_of_coins , max_valute_name)\n",
    "x, y = find_max_money()\n",
    "print(x, y)\n",
    "        "
   ]
  },
  {
   "cell_type": "markdown",
   "metadata": {},
   "source": [
    "Добавьте в класс Rate параметр diff (со значениями True или False), который в случае значения True в методах eur и usd будет возвращать не курс валюты, а изменение по сравнению в прошлым значением. Считайте, self.diff будет принимать значение True только при возврате значения курса. При отображении всей информации о валюте он не используется."
   ]
  },
  {
   "cell_type": "code",
   "execution_count": 3,
   "metadata": {},
   "outputs": [],
   "source": [
    "import requests"
   ]
  },
  {
   "cell_type": "code",
   "execution_count": 4,
   "metadata": {},
   "outputs": [
    {
     "name": "stdout",
     "output_type": "stream",
     "text": [
      "Курс евро   72.6243\n",
      "Изменение курса евро   -0.2069\n",
      "Курс доллара   65.6046\n",
      "Изменение курса доллара   -0.015\n"
     ]
    }
   ],
   "source": [
    "class Rate:\n",
    "    def __init__(self, format_='value'):\n",
    "        self.format = format_\n",
    "        self.diff = False\n",
    "    def make_previous(self, currency):\n",
    "        response = self.exchange_rates()\n",
    "        self.diff = False\n",
    "        return (round(response[currency]['Value'] - response[currency]['Previous'], 4))\n",
    "        \n",
    "       \n",
    "    \n",
    "    def exchange_rates(self):\n",
    "        \"\"\"\n",
    "        Возвращает ответ сервиса с информацией о валютах в виде:\n",
    "        \n",
    "        {\n",
    "            'AMD': {\n",
    "                'CharCode': 'AMD',\n",
    "                'ID': 'R01060',\n",
    "                'Name': 'Армянских драмов',\n",
    "                'Nominal': 100,\n",
    "                'NumCode': '051',\n",
    "                'Previous': 14.103,\n",
    "                'Value': 14.0879\n",
    "                },\n",
    "            ...\n",
    "        }\n",
    "        \"\"\"\n",
    "        r = requests.get('https://www.cbr-xml-daily.ru/daily_json.js')\n",
    "        return r.json()['Valute']\n",
    "    \n",
    "    def make_format(self, currency):\n",
    "        \"\"\"\n",
    "        Возвращает информацию о валюте currency в двух вариантах:\n",
    "        - полная информация о валюте при self.format = 'full':\n",
    "        Rate('full').make_format('EUR')\n",
    "        {\n",
    "            'CharCode': 'EUR',\n",
    "            'ID': 'R01239',\n",
    "            'Name': 'Евро',\n",
    "            'Nominal': 1,\n",
    "            'NumCode': '978',\n",
    "            'Previous': 79.6765,\n",
    "            'Value': 79.4966\n",
    "        }\n",
    "        \n",
    "        Rate('value').make_format('EUR')\n",
    "        79.4966\n",
    "        \"\"\"\n",
    "        response = self.exchange_rates()\n",
    "        \n",
    "        if currency in response:\n",
    "            if self.format == 'full':\n",
    "                return response[currency]\n",
    "            \n",
    "            if self.format == 'value':\n",
    "                return response[currency]['Value']\n",
    "        \n",
    "        return 'Error'\n",
    "    \n",
    "    def eur(self):\n",
    "        if self.diff == True:\n",
    "            return self.make_previous('EUR')\n",
    "        else:\n",
    "            self.diff = True\n",
    "            return (round(self.make_format('EUR'), 4))\n",
    "        \n",
    "        \n",
    "            \n",
    "        \"\"\"Возвращает курс евро на сегодня в формате self.format\"\"\"\n",
    "        \n",
    "    \n",
    "    def usd(self):\n",
    "        if self.diff == True:\n",
    "            return self.make_previous('USD')\n",
    "        else:\n",
    "            self.diff = True\n",
    "            return (round(self.make_format('USD'), 4))\n",
    "        \n",
    "        \"\"\"Возвращает курс доллара на сегодня в формате self.format\"\"\"\n",
    "        #return self.make_format('USD')\n",
    "    \n",
    "    \n",
    "    \n",
    "\n",
    "r = Rate()\n",
    "print('Курс евро  ', r.eur())\n",
    "print('Изменение курса евро  ', r.eur())\n",
    "print('Курс доллара  ', r.usd())\n",
    "print('Изменение курса доллара  ', r.usd())"
   ]
  },
  {
   "cell_type": "code",
   "execution_count": null,
   "metadata": {},
   "outputs": [],
   "source": []
  }
 ],
 "metadata": {
  "kernelspec": {
   "display_name": "Python 3",
   "language": "python",
   "name": "python3"
  },
  "language_info": {
   "codemirror_mode": {
    "name": "ipython",
    "version": 3
   },
   "file_extension": ".py",
   "mimetype": "text/x-python",
   "name": "python",
   "nbconvert_exporter": "python",
   "pygments_lexer": "ipython3",
   "version": "3.7.3"
  }
 },
 "nbformat": 4,
 "nbformat_minor": 2
}
