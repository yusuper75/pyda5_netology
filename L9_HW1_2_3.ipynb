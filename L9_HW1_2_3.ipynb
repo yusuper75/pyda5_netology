{
 "cells": [
  {
   "cell_type": "markdown",
   "metadata": {},
   "source": [
    "Задание 1\n",
    "Напишите функцию date_range, которая возвращает список дней между датами start_date и end_date. \n",
    "Даты должны вводиться в формате YYYY-MM-DD.\n",
    "Задание 2 Дополните функцию из первого задания проверкой на корректность дат. В случае неверного формата или если start_date > end_date должен возвращаться пустой список"
   ]
  },
  {
   "cell_type": "code",
   "execution_count": 5,
   "metadata": {},
   "outputs": [],
   "source": [
    "from datetime import datetime\n",
    "from datetime import timedelta"
   ]
  },
  {
   "cell_type": "code",
   "execution_count": 13,
   "metadata": {},
   "outputs": [
    {
     "name": "stdout",
     "output_type": "stream",
     "text": [
      "Введите дату2019-02-28\n",
      "Введите дату2019-02-25\n",
      "Неверный ввод! Повторите ввод с условием, чтобы первая дата была раньше чем вторая   \n"
     ]
    }
   ],
   "source": [
    "def date_range (start_date, end_date):\n",
    "    try:\n",
    "        start_date = datetime.strptime(start_date,'%Y-%m-%d')\n",
    "        end_date = datetime.strptime(end_date,'%Y-%m-%d')\n",
    "        if start_date > end_date:\n",
    "            print(\"Неверный ввод! Повторите ввод с условием, чтобы первая дата была раньше, чем вторая   \")\n",
    "        while start_date <= end_date:\n",
    "            print(start_date.strftime('%Y-%m-%d'))  \n",
    "            start_date += timedelta(days=1)\n",
    "    \n",
    "    except:\n",
    "        print('Дата некорректна')        \n",
    "            \n",
    "#     if start_date > end_date:\n",
    "#         print(\"Неверный ввод! Повторите ввод с условием, чтобы первая дата была раньше чем вторая   \")\n",
    "#     #elif \n",
    "        \n",
    "#     while start_date <= end_date:\n",
    "#          print(start_date.strftime('%Y-%m-%d'))\n",
    "    \n",
    "#          start_date += timedelta(days=1)\n",
    "    \n",
    "start_date = input (\"Введите дату\")\n",
    "#start_date = datetime.strptime(start_date, '%Y-%m-%d')\n",
    "#end_date = input ('Введите дату')\n",
    "end_date = input (\"Введите дату\")\n",
    "#end_date = datetime.strptime(end_date, '%Y-%m-%d')\n",
    "date_range (start_date, end_date)\n"
   ]
  },
  {
   "cell_type": "markdown",
   "metadata": {},
   "source": [
    "Задание 3\n",
    "Дан поток дат в формате YYYY-MM-DD, в которых встречаются некорректные значения:\n",
    "stream = ['2018-04-02', '2018-02-29', '2018-19-02']\n",
    "\n",
    "Напишите функцию, которая проверяет эти даты на корректность.\n",
    "Т. е. для каждой даты возвращает True (дата корректна) или False (некорректная дата). "
   ]
  },
  {
   "cell_type": "code",
   "execution_count": 31,
   "metadata": {},
   "outputs": [],
   "source": [
    "from datetime import datetime\n",
    "from datetime import timedelta"
   ]
  },
  {
   "cell_type": "code",
   "execution_count": 33,
   "metadata": {},
   "outputs": [
    {
     "name": "stdout",
     "output_type": "stream",
     "text": [
      "True\n",
      "False\n",
      "False\n"
     ]
    }
   ],
   "source": [
    "stream = ['2018-04-02', '2018-02-29', '2018-19-02']\n",
    "def tru_date (stream):\n",
    "    for day in stream:\n",
    "        try:\n",
    "            date = datetime.strptime(day,'%Y-%m-%d')\n",
    "            print('True')\n",
    "        except:\n",
    "            print('False')\n",
    "        \n",
    "\n",
    "tru_date (stream)\n",
    "        \n",
    "# try:\n",
    "#     date_1 = datetime.strptime(stream[2],'%Y-%m-%d')\n",
    "# except:\n",
    "#     print('Ошибка')\n",
    "    \n",
    "# print('Проехали')"
   ]
  },
  {
   "cell_type": "markdown",
   "metadata": {},
   "source": [
    "Задание 5\n",
    "В последнем примере поиска по словарю мы использовали 3 столбца. Напишите функцию, которая формирует словарь для поиска по n столбцам."
   ]
  },
  {
   "cell_type": "code",
   "execution_count": 1,
   "metadata": {},
   "outputs": [],
   "source": [
    "stats_dict = {}\n",
    "\n",
    "with open('C:\\\\Users\\\\yusuper\\\\Documents\\\\GitHub\\\\pyda5_netology\\\\stats.csv') as f:\n",
    "    for line in f:\n",
    "        line = line.strip().split(',')\n",
    "        stats_dict[tuple(line[:len(line)-1])] = line[len(line)-1]"
   ]
  },
  {
   "cell_type": "code",
   "execution_count": 2,
   "metadata": {},
   "outputs": [
    {
     "name": "stdout",
     "output_type": "stream",
     "text": [
      "('14', '26376', '3') 13301\n"
     ]
    }
   ],
   "source": [
    "for key, value in stats_dict.items():\n",
    "    print(key, value)\n",
    "    break"
   ]
  },
  {
   "cell_type": "code",
   "execution_count": 3,
   "metadata": {},
   "outputs": [],
   "source": [
    "line_to_find = ('20', '20552', '3')"
   ]
  },
  {
   "cell_type": "code",
   "execution_count": 4,
   "metadata": {},
   "outputs": [
    {
     "name": "stdout",
     "output_type": "stream",
     "text": [
      "39156\n",
      "Wall time: 11 ms\n"
     ]
    }
   ],
   "source": [
    "%%time\n",
    "for i in range(10**4):\n",
    "    cost = stats_dict[line_to_find]\n",
    "    \n",
    "print(cost)"
   ]
  },
  {
   "cell_type": "code",
   "execution_count": null,
   "metadata": {},
   "outputs": [],
   "source": []
  }
 ],
 "metadata": {
  "kernelspec": {
   "display_name": "Python 3",
   "language": "python",
   "name": "python3"
  },
  "language_info": {
   "codemirror_mode": {
    "name": "ipython",
    "version": 3
   },
   "file_extension": ".py",
   "mimetype": "text/x-python",
   "name": "python",
   "nbconvert_exporter": "python",
   "pygments_lexer": "ipython3",
   "version": "3.7.3"
  }
 },
 "nbformat": 4,
 "nbformat_minor": 2
}
