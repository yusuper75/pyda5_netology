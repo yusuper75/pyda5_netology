{
 "cells": [
  {
   "cell_type": "markdown",
   "metadata": {},
   "source": [
    "**Задание 1**. Даны 2 строки: *long_phrase* и *short_phrase*. \n",
    "Напишите код, который проверяет действительно ли длинная фраза *long_phrase* длиннее короткой *short_phrase*. И выводит *True* или *False* в зависимости от результата сравнения."
   ]
  },
  {
   "cell_type": "code",
   "execution_count": 2,
   "metadata": {},
   "outputs": [
    {
     "data": {
      "text/plain": [
       "True"
      ]
     },
     "execution_count": 2,
     "metadata": {},
     "output_type": "execute_result"
    }
   ],
   "source": [
    "long_phrase = 'Насколько проще было бы писать программы, если бы не заказчики'\n",
    "short_phrase = '640Кб должно хватить для любых задач. Билл Гейтс (по легенде)'\n",
    "len (long_phrase) > len (short_phrase)"
   ]
  },
  {
   "cell_type": "code",
   "execution_count": null,
   "metadata": {},
   "outputs": [],
   "source": []
  },
  {
   "cell_type": "markdown",
   "metadata": {},
   "source": [
    "**Задание 2**. Дано значение объема файла в байтах. Напишите перевод этого значения в мегабайты в формате: \"*Объем файла равен 213.68Mb*\""
   ]
  },
  {
   "cell_type": "code",
   "execution_count": 1,
   "metadata": {},
   "outputs": [
    {
     "name": "stdout",
     "output_type": "stream",
     "text": [
      "Введите объем файла в батах B = 4444444444444\n",
      "Объем файла равен в MB =  4238552.52\n"
     ]
    }
   ],
   "source": [
    "b = int (input ('Введите объем файла в батах B = ' ))\n",
    "if b > 0:\n",
    "   mb = b/1048576\n",
    "   print ('Объем файла равен в MB = ', round(mb, 2))"
   ]
  },
  {
   "cell_type": "markdown",
   "metadata": {},
   "source": [
    "**Задание 3**. Разработать приложение для определения знака зодиака по дате рождения. Пример:\n",
    "\n",
    "Введите месяц: март\n",
    "\n",
    "Введите число: 6\n",
    "\n",
    "Вывод:\n",
    "Рыбы"
   ]
  },
  {
   "cell_type": "code",
   "execution_count": 5,
   "metadata": {},
   "outputs": [
    {
     "name": "stdout",
     "output_type": "stream",
     "text": [
      "Введите месяц июнь\n",
      "Введите число 24\n",
      "Рак\n",
      "Конец программы\n"
     ]
    }
   ],
   "source": [
    "month = input ('Введите месяц ')\n",
    "date = input ('Введите число ')\n",
    "if month == 'январь' and '20'<= date <= '31' or month == 'февраль' and '1'<= date <= '18':\n",
    "    print ('Водолей')\n",
    "elif month == 'февраль' and '19'<= date <= '29' or month == 'март' and '1'<= date <= '21':\n",
    "    print ('Рыбы')\n",
    "elif month == 'март' and '22'<= date <= '31' or month =='апрель' and '1'<= date <= '19':\n",
    "    print ('Овен')\n",
    "elif month =='апрель' and '20'<= date <= '30' or month == 'май' and '1'<= date <= '20':\n",
    "    print ('Телец')\n",
    "elif month == 'май' and '21'<= date <= '30' or month == 'июнь' and '1'<= date <= '20':\n",
    "    print ('Близнецы')\n",
    "elif month == 'июнь' and '21'<= date <= '30' or month == 'июль' and '1'<= date <= '22':\n",
    "    print ('Рак')\n",
    "elif month == 'июль' and '23'<= date <= '31' or month == 'август' and '1'<= date <= '22':\n",
    "    print ('Лев')\n",
    "elif month == 'август' and '23'<= date <= '31' or month == 'сентябрь' and '1'<= date <= '22':\n",
    "    print ('Дева')\n",
    "elif month == 'сентябрь' and '23'<= date <= '30' or month == 'октябрь' and '1'<= date <= '22':\n",
    "    print ('Весы')\n",
    "elif month == 'октябрь' and '23'<= date <= '31' or month == 'ноябрь' and '1'<= date <= '21':\n",
    "    print ('Скорпион')\n",
    "elif month == 'ноябрь' and '22'<= date <= '30' or month == 'декабрь' and '1'<= date <= '21':\n",
    "    print ('Стрелец')\n",
    "elif month == 'декабрь' and '22'<= date <= '31' or month == 'январь' and '1'<= date <= '19':\n",
    "    print ('Козерог')\n",
    "else:\n",
    "    print ('Неверный ввод данных')\n",
    "print ('Конец программы')"
   ]
  },
  {
   "cell_type": "markdown",
   "metadata": {},
   "source": [
    "**Задание 4**. Нужно разработать приложение для финансового планирования.\n",
    "Приложение учитывает сколько уходит на ипотеку, \"на жизнь\" и сколько нужно отложить на пенсию.\n",
    "Пользователь вводит:\n",
    "- заработанную плату в месяц.\n",
    "- сколько процентов от ЗП уходит на ипотеку.\n",
    "- сколько процентов от ЗП уходит \"на жизнь\".\n",
    "- сколько раз приходит премия в год.\n",
    "\n",
    "Остальная часть заработанной платы откладывается на пенсию.\n",
    "\n",
    "Также пользователю приходит премия в размере зарплаты, от которой половина уходит на отпуск, а вторая половина откладывается.\n",
    "\n",
    "Программа должна учитывать сколько премий было в год.\n",
    "\n",
    "Нужно вывести сколько денег тратит пользователь на ипотеку и сколько он накопит за год.\n",
    "\n",
    "Пример:\n",
    "\n",
    "Введите заработанную плату в месяц: 100000\n",
    "\n",
    "Введите сколько процентов уходит на ипотеку: 30\n",
    "\n",
    "Введите сколько процентов уходит на жизнь: 50\n",
    "\n",
    "Введите количество премий за год: 2\n",
    "\n",
    "Вывод:\n",
    "На ипотеку было потрачено: 360000 рублей\n",
    "Было накоплено: 340000 рублей"
   ]
  },
  {
   "cell_type": "code",
   "execution_count": null,
   "metadata": {},
   "outputs": [],
   "source": [
    "salary = int (input ('Введите заработанную плату в месяц: '))\n",
    "mortage = int (input ('Введите сколько процентов уходит на ипотеку:'))\n",
    "life_spending = int (input ('Введите сколько процентов уходит на жизнь: '))\n",
    "number_of_bonuses = int (input ('Введите количество премий за год: '))\n",
    "total_income = (12 + number_of_bonuses)*salary\n",
    "annual_mortage = round (((mortage/100)*12*salary),2)\n",
    "annual_life_spending = round (((life_spending/100)*12*salary),2)\n",
    "print ('На ипотеку было потрачено:', annual_mortage)\n",
    "penies = total_income - (annual_mortage + annual_life_spending)\n",
    "print ('Было накоплено: ', penies)"
   ]
  }
 ],
 "metadata": {
  "kernelspec": {
   "display_name": "Python 3",
   "language": "python",
   "name": "python3"
  },
  "language_info": {
   "codemirror_mode": {
    "name": "ipython",
    "version": 3
   },
   "file_extension": ".py",
   "mimetype": "text/x-python",
   "name": "python",
   "nbconvert_exporter": "python",
   "pygments_lexer": "ipython3",
   "version": "3.7.3"
  }
 },
 "nbformat": 4,
 "nbformat_minor": 2
}
